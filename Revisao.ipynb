{
 "cells": [
  {
   "cell_type": "code",
   "execution_count": 9,
   "metadata": {},
   "outputs": [
    {
     "name": "stdout",
     "output_type": "stream",
     "text": [
      "False\n"
     ]
    }
   ],
   "source": [
    "print(10==0)"
   ]
  },
  {
   "cell_type": "code",
   "execution_count": 18,
   "metadata": {},
   "outputs": [
    {
     "name": "stdout",
     "output_type": "stream",
     "text": [
      "Nome: Luiz\n",
      "Idade: 18\n",
      "e maior? True\n"
     ]
    }
   ],
   "source": [
    "nome = 'Luiz'\n",
    "idade = 18\n",
    "maior_de_idade = idade >= 18 \n",
    "\n",
    "print(\"Nome:\", nome)\n",
    "print(\"Idade:\",idade)\n",
    "print(\"e maior?\", maior_de_idade)\n"
   ]
  },
  {
   "cell_type": "code",
   "execution_count": 22,
   "metadata": {},
   "outputs": [
    {
     "name": "stdout",
     "output_type": "stream",
     "text": [
      "AAAAAAAAAA\n",
      "LuizLuizLuiz\n"
     ]
    }
   ],
   "source": [
    "a_dez_vezes = 'A' * 10\n",
    "trez_vezes_luiz = 'Luiz' * 3\n",
    "print(a_dez_vezes)\n",
    "print(trez_vezes_luiz)"
   ]
  },
  {
   "cell_type": "markdown",
   "metadata": {},
   "source": [
    "*Codigo de Lista de produtos em Python*"
   ]
  },
  {
   "cell_type": "code",
   "execution_count": 1,
   "metadata": {},
   "outputs": [
    {
     "name": "stdout",
     "output_type": "stream",
     "text": [
      "0 iphone\n",
      "1 Samsung\n",
      "2 Xiaomi\n",
      "3 Nokia\n",
      "4 Computador\n",
      "5 Geladeira\n",
      "6 Video Game\n"
     ]
    }
   ],
   "source": [
    "produtos = [\n",
    "    \"iphone\",\n",
    "    \"Samsung\",\n",
    "    \"Xiaomi\",\n",
    "    \"Nokia\",\n",
    "    \"Computador\",\n",
    "    \"Geladeira\",\n",
    "    \"Video Game\",\n",
    "]\n",
    "for i, item in enumerate(produtos):\n",
    "    print(i, item)f\n",
    "\n",
    "\n",
    "\n",
    "\n",
    "\n"
   ]
  },
  {
   "cell_type": "markdown",
   "metadata": {},
   "source": [
    "*Formatar Strings*"
   ]
  },
  {
   "cell_type": "code",
   "execution_count": 28,
   "metadata": {},
   "outputs": [
    {
     "name": "stdout",
     "output_type": "stream",
     "text": [
      "a=AAA b=AAA c=BBB\n"
     ]
    }
   ],
   "source": [
    "a = 'AAA'\n",
    "b = 'AAA'\n",
    "c = 'BBB'\n",
    "\n",
    "string = 'a={} b={} c={}'\n",
    "\n",
    "formato = string.format(a,b,c)\n",
    "print(formato)\n",
    "\n"
   ]
  },
  {
   "cell_type": "markdown",
   "metadata": {},
   "source": [
    "*Input -> Coletar dados do Usuario*"
   ]
  },
  {
   "cell_type": "code",
   "execution_count": 8,
   "metadata": {},
   "outputs": [
    {
     "name": "stdout",
     "output_type": "stream",
     "text": [
      "Parabens voce tem 20 anos \n"
     ]
    }
   ],
   "source": [
    "idade = int(input(\"Digite a sua idade: \"))\n",
    "print(f'Parabens voce tem {idade} anos ')"
   ]
  },
  {
   "cell_type": "markdown",
   "metadata": {},
   "source": [
    "*Casos em python*"
   ]
  },
  {
   "cell_type": "code",
   "execution_count": 15,
   "metadata": {},
   "outputs": [
    {
     "name": "stdout",
     "output_type": "stream",
     "text": [
      "é SEXTA CARALHO!!\n"
     ]
    }
   ],
   "source": [
    "dia = 5\n",
    "\n",
    "match dia: \n",
    "    case 1: \n",
    "        print(\"Segunda!\")\n",
    "    case 2:\n",
    "        print(\"Terça!\")\n",
    "    case 3:\n",
    "        print(\"Quarta!\")\n",
    "    case 4:\n",
    "        print(\"Quinta!\")\n",
    "    case _:\n",
    "        print(\"é SEXTA CARALHO!!\")\n",
    "\n"
   ]
  },
  {
   "cell_type": "markdown",
   "metadata": {},
   "source": [
    "*Menu de opções*"
   ]
  },
  {
   "cell_type": "code",
   "execution_count": null,
   "metadata": {},
   "outputs": [],
   "source": [
    "n1 = int(input('Primeiro valor: '))\n",
    "n2 = int(input('Segundo Valor: '))\n",
    "soma = n1 + n2 \n",
    "produto = n1 * n2\n",
    "\n",
    "opção = 0\n",
    "while opção != 5:\n",
    "    print(''' \n",
    "    [ 1 ] somar\n",
    "    [ 2 ] multiplicar\n",
    "    [ 3 ] maior\n",
    "    [ 4 ] novos numeros\n",
    "    [ 5 ] sair do programa''')\n",
    "    \n",
    "    opção = str(input(\"Escolha qual é a sua opção: \"))\n",
    "     \n",
    "    if opção == 1:\n",
    "        soma = n1 + n2\n",
    "        print(\"O valor da soma de {} + {} é {}\".format(n1, n2, soma))\n",
    "\n",
    "    elif opção == 2:\n",
    "        produto = n1 * n2\n",
    "        print(\"O valor da Multiplicacao de {} x {} é {}\".format(n1, n2, produto))\n",
    "\n",
    "    elif opção == 3:\n",
    "        if n1 > n2:\n",
    "            maior = n1\n",
    "        else: \n",
    "            maior = n2\n",
    "        print('Entre {} e {} o maior valor é {}'.format(n1, n2, maior))\n",
    "\n",
    "    elif opção == 4:\n",
    "        print('Informe novos números: ')\n",
    "        n1 = int(input(\"Digite o Primeiro valor: \"))\n",
    "        n2 = int(input(\"Digite o Segundo Valor: \"))\n",
    "\n",
    "    elif opção == 5:\n",
    "        print('Finalizando...')\n",
    "    else: \n",
    "        print('Opção invalida. Tente novamente!')\n",
    "    print('=-=' * 10)\n",
    "print('Fim do programa!, Volte sempre!')\n"
   ]
  }
 ],
 "metadata": {
  "kernelspec": {
   "display_name": "Python 3",
   "language": "python",
   "name": "python3"
  },
  "language_info": {
   "codemirror_mode": {
    "name": "ipython",
    "version": 3
   },
   "file_extension": ".py",
   "mimetype": "text/x-python",
   "name": "python",
   "nbconvert_exporter": "python",
   "pygments_lexer": "ipython3",
   "version": "3.10.0"
  },
  "orig_nbformat": 4
 },
 "nbformat": 4,
 "nbformat_minor": 2
}
