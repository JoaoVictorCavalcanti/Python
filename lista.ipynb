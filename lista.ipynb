{
 "cells": [
  {
   "cell_type": "markdown",
   "metadata": {},
   "source": [
    "Codigos de Lista de Produtos em Python"
   ]
  },
  {
   "cell_type": "code",
   "execution_count": 1,
   "metadata": {},
   "outputs": [
    {
     "name": "stdout",
     "output_type": "stream",
     "text": [
      "0 iphone\n",
      "1 Samsung\n",
      "2 Xiaomi\n",
      "3 Nokia\n",
      "4 Computador\n",
      "5 Geladeira\n",
      "6 Video Game\n"
     ]
    }
   ],
   "source": [
    "produtos = [\n",
    "    \"iphone\",\n",
    "    \"Samsung\",\n",
    "    \"Xiaomi\",\n",
    "    \"Nokia\",\n",
    "    \"Computador\",\n",
    "    \"Geladeira\",\n",
    "    \"Video Game\",\n",
    "\n",
    "]\n",
    "\n",
    "for i, item in enumerate(produtos):\n",
    "    print(i, item)"
   ]
  }
 ],
 "metadata": {
  "kernelspec": {
   "display_name": "Python 3",
   "language": "python",
   "name": "python3"
  },
  "language_info": {
   "codemirror_mode": {
    "name": "ipython",
    "version": 3
   },
   "file_extension": ".py",
   "mimetype": "text/x-python",
   "name": "python",
   "nbconvert_exporter": "python",
   "pygments_lexer": "ipython3",
   "version": "3.10.0"
  },
  "orig_nbformat": 4
 },
 "nbformat": 4,
 "nbformat_minor": 2
}
